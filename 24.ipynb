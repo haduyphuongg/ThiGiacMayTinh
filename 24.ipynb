{
 "cells": [
  {
   "cell_type": "code",
   "execution_count": 6,
   "id": "8d88e88e-1fa3-4f02-be20-f8d84bdc05e6",
   "metadata": {},
   "outputs": [],
   "source": [
    "import cv2\n",
    "import time"
   ]
  },
  {
   "cell_type": "code",
   "execution_count": 7,
   "id": "1dd2a794-6b8a-478e-acc3-fa6a9cabd0b8",
   "metadata": {},
   "outputs": [],
   "source": [
    "# Đọc video từ file\n",
    "camera = cv2.VideoCapture(0)"
   ]
  },
  {
   "cell_type": "code",
   "execution_count": 8,
   "id": "e4082afb-2695-4ab4-808c-6e844ffcbbf5",
   "metadata": {},
   "outputs": [],
   "source": [
    "# Tạo cửa sổ để hiển thị\n",
    "cv2.namedWindow('Video Player', cv2.WINDOW_NORMAL)\n",
    "# \n",
    "interval = 20\n",
    "count = 0"
   ]
  },
  {
   "cell_type": "code",
   "execution_count": 9,
   "id": "cef698c5-b338-4e77-8034-73bc4e442204",
   "metadata": {},
   "outputs": [],
   "source": [
    "# Ghi text trên hình ảnh\n",
    "font = cv2.FONT_HERSHEY_SIMPLEX\n",
    "font_color = (255, 255, 255)\n",
    "font_scale = 1\n",
    "font_thicknes = 2"
   ]
  },
  {
   "cell_type": "code",
   "execution_count": 10,
   "id": "8e309c38-5dc6-41f2-9a7f-d850128f5eb6",
   "metadata": {},
   "outputs": [
    {
     "ename": "KeyboardInterrupt",
     "evalue": "",
     "output_type": "error",
     "traceback": [
      "\u001b[1;31m---------------------------------------------------------------------------\u001b[0m",
      "\u001b[1;31mKeyboardInterrupt\u001b[0m                         Traceback (most recent call last)",
      "Cell \u001b[1;32mIn[10], line 6\u001b[0m\n\u001b[0;32m      4\u001b[0m start_time \u001b[38;5;241m=\u001b[39m time\u001b[38;5;241m.\u001b[39mtime()\n\u001b[0;32m      5\u001b[0m \u001b[38;5;66;03m# Đọc 1 frame\u001b[39;00m\n\u001b[1;32m----> 6\u001b[0m ret, frame \u001b[38;5;241m=\u001b[39m camera\u001b[38;5;241m.\u001b[39mread()\n\u001b[0;32m      7\u001b[0m \u001b[38;5;66;03m# Thoát khi không thể đọc được frame\u001b[39;00m\n\u001b[0;32m      8\u001b[0m \u001b[38;5;28;01mif\u001b[39;00m \u001b[38;5;129;01mnot\u001b[39;00m ret:\n",
      "\u001b[1;31mKeyboardInterrupt\u001b[0m: "
     ]
    }
   ],
   "source": [
    "# Hiển thị từng khung ảnh\n",
    "while True:\n",
    "    # Thời gian trước khi đọc\n",
    "    start_time = time.time()\n",
    "    # Đọc 1 frame\n",
    "    ret, frame = camera.read()\n",
    "    # Thoát khi không thể đọc được frame\n",
    "    if not ret:\n",
    "        break\n",
    "    # Tăng count + 1\n",
    "    count = count + 1\n",
    "    # Định kỳ lưu ảnh xuống\n",
    "    if(count%interval==0):\n",
    "        cv2.imwrite(f'./data/image_{count}.jpg', frame)\n",
    "        \n",
    "    # Thời gian trước khi đọc\n",
    "    end_time = time.time()    \n",
    "    # Tình FPS:\n",
    "    fps = 1/(end_time-start_time)\n",
    "    # Ghi số lượng fps\n",
    "    cv2.putText(frame, f'FPS: {fps:.2f}', (100, 100), font, font_scale, font_color , font_thicknes)\n",
    "    # Hiển thị\n",
    "    cv2.imshow('Video Player', frame)\n",
    "    if(cv2.waitKey(10)==ord('q')):\n",
    "        break\n",
    "\n",
    "# Hủy bỏ player\n",
    "camera.release()\n",
    "cv2.destroyAllWindows()"
   ]
  },
  {
   "cell_type": "code",
   "execution_count": null,
   "id": "062811c5-b63a-4cc4-91bb-43da0c7208a4",
   "metadata": {},
   "outputs": [],
   "source": []
  }
 ],
 "metadata": {
  "kernelspec": {
   "display_name": "Python 3 (ipykernel)",
   "language": "python",
   "name": "python3"
  },
  "language_info": {
   "codemirror_mode": {
    "name": "ipython",
    "version": 3
   },
   "file_extension": ".py",
   "mimetype": "text/x-python",
   "name": "python",
   "nbconvert_exporter": "python",
   "pygments_lexer": "ipython3",
   "version": "3.12.4"
  }
 },
 "nbformat": 4,
 "nbformat_minor": 5
}
